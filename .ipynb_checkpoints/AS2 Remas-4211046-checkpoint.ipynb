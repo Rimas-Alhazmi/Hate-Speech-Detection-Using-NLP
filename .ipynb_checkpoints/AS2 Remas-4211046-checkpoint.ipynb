{
 "cells": [
  {
   "cell_type": "markdown",
   "id": "6a5eec71-c842-421f-9b3a-d1a90c47aaea",
   "metadata": {},
   "source": [
    "# Soundex Algorithm"
   ]
  },
  {
   "cell_type": "code",
   "execution_count": 1,
   "id": "1fbdac5c-02c8-4561-93f8-326a5526ef2f",
   "metadata": {},
   "outputs": [
    {
     "name": "stdout",
     "output_type": "stream",
     "text": [
      "Soundex codes:\n",
      "Jurafsky → J612\n",
      "Jarofsky → J612\n",
      "Jarovsky → J612\n",
      "Einstein → E523\n",
      "Alex → A420\n"
     ]
    }
   ],
   "source": [
    "def soundex(name):\n",
    "    \"\"\"\n",
    "    Compute the Soundex code for a given name.\n",
    "\n",
    "    The Soundex algorithm indexes words (mainly names) by their sound when pronounced in English.\n",
    "    Steps followed:\n",
    "    1. Keep the first letter of the name.\n",
    "    2. Remove all occurrences of 'a', 'e', 'h', 'i', 'o', 'u', 'w', 'y' after the first letter.\n",
    "    3. Replace the remaining letters with digits based on Soundex rules:\n",
    "        b, f, p, v   → 1\n",
    "        c, g, j, k, q, s, x, z → 2\n",
    "        d, t         → 3\n",
    "        l            → 4\n",
    "        m, n         → 5\n",
    "        r            → 6\n",
    "    4. Remove consecutive duplicate digits.\n",
    "    5. Adjust the code to four characters by padding with zeros or truncating.\n",
    "\n",
    "    Args:\n",
    "        name (str): The input name to encode.\n",
    "\n",
    "    Returns:\n",
    "        str: The Soundex code of the given name.\n",
    "    \"\"\"\n",
    "\n",
    "    # Step 1: Soundex mapping for letters\n",
    "    soundex_mapping = {\n",
    "        \"b\": \"1\", \"f\": \"1\", \"p\": \"1\", \"v\": \"1\",\n",
    "        \"c\": \"2\", \"g\": \"2\", \"j\": \"2\", \"k\": \"2\",\n",
    "        \"q\": \"2\", \"s\": \"2\", \"x\": \"2\", \"z\": \"2\",\n",
    "        \"d\": \"3\", \"t\": \"3\",\n",
    "        \"l\": \"4\",\n",
    "        \"m\": \"5\", \"n\": \"5\",\n",
    "        \"r\": \"6\"\n",
    "    }\n",
    "\n",
    "    # Convert to uppercase for consistency\n",
    "    name = name.upper()\n",
    "\n",
    "    # Step 2: Keep the first letter\n",
    "    first_letter = name[0]\n",
    "\n",
    "    # Step 3: Replace letters with digits\n",
    "    encoded = first_letter\n",
    "    for char in name[1:]:\n",
    "        if char.lower() in soundex_mapping:\n",
    "            encoded += soundex_mapping[char.lower()]\n",
    "        else:\n",
    "            encoded += \"\"\n",
    "\n",
    "    # Step 4: Remove consecutive duplicates\n",
    "    result = first_letter\n",
    "    for i in range(1, len(encoded)):\n",
    "        if encoded[i] != encoded[i - 1]:\n",
    "            result += encoded[i]\n",
    "\n",
    "    # Step 5: Remove all non-digit characters except the first letter\n",
    "    result = result[0] + \"\".join(filter(str.isdigit, result[1:]))\n",
    "\n",
    "    # Step 6: Adjust to length of 4 characters\n",
    "    result = (result + \"000\")[:4]\n",
    "\n",
    "    return result\n",
    "\n",
    "\n",
    "if __name__ == \"__main__\":\n",
    "    # Test cases\n",
    "    names = [\"Jurafsky\", \"Jarofsky\", \"Jarovsky\", \"Einstein\", \"Alex\"]\n",
    "\n",
    "    print(\"Soundex codes:\")\n",
    "    for name in names:\n",
    "        print(f\"{name} → {soundex(name)}\")\n"
   ]
  }
 ],
 "metadata": {
  "kernelspec": {
   "display_name": "Python [conda env:base] *",
   "language": "python",
   "name": "conda-base-py"
  },
  "language_info": {
   "codemirror_mode": {
    "name": "ipython",
    "version": 3
   },
   "file_extension": ".py",
   "mimetype": "text/x-python",
   "name": "python",
   "nbconvert_exporter": "python",
   "pygments_lexer": "ipython3",
   "version": "3.12.7"
  }
 },
 "nbformat": 4,
 "nbformat_minor": 5
}
