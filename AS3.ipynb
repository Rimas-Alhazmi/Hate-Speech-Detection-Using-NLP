{
 "cells": [
  {
   "cell_type": "code",
   "execution_count": 3,
   "id": "7717a5e5-0073-4fe3-8549-edda10551fe3",
   "metadata": {
    "scrolled": true
   },
   "outputs": [
    {
     "name": "stdout",
     "output_type": "stream",
     "text": [
      "Requirement already satisfied: spacy in c:\\users\\remas alhazmi\\onedrive\\anaconda\\envs\\env_tow\\lib\\site-packages (3.8.4)\n",
      "Requirement already satisfied: spacy-legacy<3.1.0,>=3.0.11 in c:\\users\\remas alhazmi\\onedrive\\anaconda\\envs\\env_tow\\lib\\site-packages (from spacy) (3.0.12)\n",
      "Requirement already satisfied: spacy-loggers<2.0.0,>=1.0.0 in c:\\users\\remas alhazmi\\onedrive\\anaconda\\envs\\env_tow\\lib\\site-packages (from spacy) (1.0.5)\n",
      "Requirement already satisfied: murmurhash<1.1.0,>=0.28.0 in c:\\users\\remas alhazmi\\onedrive\\anaconda\\envs\\env_tow\\lib\\site-packages (from spacy) (1.0.12)\n",
      "Requirement already satisfied: cymem<2.1.0,>=2.0.2 in c:\\users\\remas alhazmi\\onedrive\\anaconda\\envs\\env_tow\\lib\\site-packages (from spacy) (2.0.11)\n",
      "Requirement already satisfied: preshed<3.1.0,>=3.0.2 in c:\\users\\remas alhazmi\\onedrive\\anaconda\\envs\\env_tow\\lib\\site-packages (from spacy) (3.0.9)\n",
      "Requirement already satisfied: thinc<8.4.0,>=8.3.4 in c:\\users\\remas alhazmi\\onedrive\\anaconda\\envs\\env_tow\\lib\\site-packages (from spacy) (8.3.4)\n",
      "Requirement already satisfied: wasabi<1.2.0,>=0.9.1 in c:\\users\\remas alhazmi\\onedrive\\anaconda\\envs\\env_tow\\lib\\site-packages (from spacy) (1.1.3)\n",
      "Requirement already satisfied: srsly<3.0.0,>=2.4.3 in c:\\users\\remas alhazmi\\onedrive\\anaconda\\envs\\env_tow\\lib\\site-packages (from spacy) (2.5.1)\n",
      "Requirement already satisfied: catalogue<2.1.0,>=2.0.6 in c:\\users\\remas alhazmi\\onedrive\\anaconda\\envs\\env_tow\\lib\\site-packages (from spacy) (2.0.10)\n",
      "Requirement already satisfied: weasel<0.5.0,>=0.1.0 in c:\\users\\remas alhazmi\\onedrive\\anaconda\\envs\\env_tow\\lib\\site-packages (from spacy) (0.4.1)\n",
      "Requirement already satisfied: typer<1.0.0,>=0.3.0 in c:\\users\\remas alhazmi\\onedrive\\anaconda\\envs\\env_tow\\lib\\site-packages (from spacy) (0.15.2)\n",
      "Requirement already satisfied: tqdm<5.0.0,>=4.38.0 in c:\\users\\remas alhazmi\\onedrive\\anaconda\\envs\\env_tow\\lib\\site-packages (from spacy) (4.67.1)\n",
      "Requirement already satisfied: numpy>=1.19.0 in c:\\users\\remas alhazmi\\onedrive\\anaconda\\envs\\env_tow\\lib\\site-packages (from spacy) (2.0.1)\n",
      "Requirement already satisfied: requests<3.0.0,>=2.13.0 in c:\\users\\remas alhazmi\\onedrive\\anaconda\\envs\\env_tow\\lib\\site-packages (from spacy) (2.32.3)\n",
      "Requirement already satisfied: pydantic!=1.8,!=1.8.1,<3.0.0,>=1.7.4 in c:\\users\\remas alhazmi\\onedrive\\anaconda\\envs\\env_tow\\lib\\site-packages (from spacy) (2.10.6)\n",
      "Requirement already satisfied: jinja2 in c:\\users\\remas alhazmi\\onedrive\\anaconda\\envs\\env_tow\\lib\\site-packages (from spacy) (3.1.5)\n",
      "Requirement already satisfied: setuptools in c:\\users\\remas alhazmi\\onedrive\\anaconda\\envs\\env_tow\\lib\\site-packages (from spacy) (75.1.0)\n",
      "Requirement already satisfied: packaging>=20.0 in c:\\users\\remas alhazmi\\onedrive\\anaconda\\envs\\env_tow\\lib\\site-packages (from spacy) (24.2)\n",
      "Requirement already satisfied: langcodes<4.0.0,>=3.2.0 in c:\\users\\remas alhazmi\\onedrive\\anaconda\\envs\\env_tow\\lib\\site-packages (from spacy) (3.5.0)\n",
      "Requirement already satisfied: language-data>=1.2 in c:\\users\\remas alhazmi\\onedrive\\anaconda\\envs\\env_tow\\lib\\site-packages (from langcodes<4.0.0,>=3.2.0->spacy) (1.3.0)\n",
      "Requirement already satisfied: annotated-types>=0.6.0 in c:\\users\\remas alhazmi\\onedrive\\anaconda\\envs\\env_tow\\lib\\site-packages (from pydantic!=1.8,!=1.8.1,<3.0.0,>=1.7.4->spacy) (0.7.0)\n",
      "Requirement already satisfied: pydantic-core==2.27.2 in c:\\users\\remas alhazmi\\onedrive\\anaconda\\envs\\env_tow\\lib\\site-packages (from pydantic!=1.8,!=1.8.1,<3.0.0,>=1.7.4->spacy) (2.27.2)\n",
      "Requirement already satisfied: typing-extensions>=4.12.2 in c:\\users\\remas alhazmi\\onedrive\\anaconda\\envs\\env_tow\\lib\\site-packages (from pydantic!=1.8,!=1.8.1,<3.0.0,>=1.7.4->spacy) (4.12.2)\n",
      "Requirement already satisfied: charset-normalizer<4,>=2 in c:\\users\\remas alhazmi\\onedrive\\anaconda\\envs\\env_tow\\lib\\site-packages (from requests<3.0.0,>=2.13.0->spacy) (3.3.2)\n",
      "Requirement already satisfied: idna<4,>=2.5 in c:\\users\\remas alhazmi\\onedrive\\anaconda\\envs\\env_tow\\lib\\site-packages (from requests<3.0.0,>=2.13.0->spacy) (3.7)\n",
      "Requirement already satisfied: urllib3<3,>=1.21.1 in c:\\users\\remas alhazmi\\onedrive\\anaconda\\envs\\env_tow\\lib\\site-packages (from requests<3.0.0,>=2.13.0->spacy) (2.3.0)\n",
      "Requirement already satisfied: certifi>=2017.4.17 in c:\\users\\remas alhazmi\\onedrive\\anaconda\\envs\\env_tow\\lib\\site-packages (from requests<3.0.0,>=2.13.0->spacy) (2024.12.14)\n",
      "Requirement already satisfied: blis<1.3.0,>=1.2.0 in c:\\users\\remas alhazmi\\onedrive\\anaconda\\envs\\env_tow\\lib\\site-packages (from thinc<8.4.0,>=8.3.4->spacy) (1.2.0)\n",
      "Requirement already satisfied: confection<1.0.0,>=0.0.1 in c:\\users\\remas alhazmi\\onedrive\\anaconda\\envs\\env_tow\\lib\\site-packages (from thinc<8.4.0,>=8.3.4->spacy) (0.1.5)\n",
      "Requirement already satisfied: colorama in c:\\users\\remas alhazmi\\onedrive\\anaconda\\envs\\env_tow\\lib\\site-packages (from tqdm<5.0.0,>=4.38.0->spacy) (0.4.6)\n",
      "Requirement already satisfied: click>=8.0.0 in c:\\users\\remas alhazmi\\onedrive\\anaconda\\envs\\env_tow\\lib\\site-packages (from typer<1.0.0,>=0.3.0->spacy) (8.1.8)\n",
      "Requirement already satisfied: shellingham>=1.3.0 in c:\\users\\remas alhazmi\\onedrive\\anaconda\\envs\\env_tow\\lib\\site-packages (from typer<1.0.0,>=0.3.0->spacy) (1.5.4)\n",
      "Requirement already satisfied: rich>=10.11.0 in c:\\users\\remas alhazmi\\onedrive\\anaconda\\envs\\env_tow\\lib\\site-packages (from typer<1.0.0,>=0.3.0->spacy) (13.9.4)\n",
      "Requirement already satisfied: cloudpathlib<1.0.0,>=0.7.0 in c:\\users\\remas alhazmi\\onedrive\\anaconda\\envs\\env_tow\\lib\\site-packages (from weasel<0.5.0,>=0.1.0->spacy) (0.21.0)\n",
      "Requirement already satisfied: smart-open<8.0.0,>=5.2.1 in c:\\users\\remas alhazmi\\onedrive\\anaconda\\envs\\env_tow\\lib\\site-packages (from weasel<0.5.0,>=0.1.0->spacy) (7.1.0)\n",
      "Requirement already satisfied: MarkupSafe>=2.0 in c:\\users\\remas alhazmi\\onedrive\\anaconda\\envs\\env_tow\\lib\\site-packages (from jinja2->spacy) (2.1.3)\n",
      "Requirement already satisfied: marisa-trie>=1.1.0 in c:\\users\\remas alhazmi\\onedrive\\anaconda\\envs\\env_tow\\lib\\site-packages (from language-data>=1.2->langcodes<4.0.0,>=3.2.0->spacy) (1.2.1)\n",
      "Requirement already satisfied: markdown-it-py>=2.2.0 in c:\\users\\remas alhazmi\\onedrive\\anaconda\\envs\\env_tow\\lib\\site-packages (from rich>=10.11.0->typer<1.0.0,>=0.3.0->spacy) (3.0.0)\n",
      "Requirement already satisfied: pygments<3.0.0,>=2.13.0 in c:\\users\\remas alhazmi\\onedrive\\anaconda\\envs\\env_tow\\lib\\site-packages (from rich>=10.11.0->typer<1.0.0,>=0.3.0->spacy) (2.19.1)\n",
      "Requirement already satisfied: wrapt in c:\\users\\remas alhazmi\\onedrive\\anaconda\\envs\\env_tow\\lib\\site-packages (from smart-open<8.0.0,>=5.2.1->weasel<0.5.0,>=0.1.0->spacy) (1.17.2)\n",
      "Requirement already satisfied: mdurl~=0.1 in c:\\users\\remas alhazmi\\onedrive\\anaconda\\envs\\env_tow\\lib\\site-packages (from markdown-it-py>=2.2.0->rich>=10.11.0->typer<1.0.0,>=0.3.0->spacy) (0.1.2)\n",
      "Note: you may need to restart the kernel to use updated packages.\n"
     ]
    }
   ],
   "source": [
    "pip install spacy\n"
   ]
  },
  {
   "cell_type": "code",
   "execution_count": 5,
   "id": "6af80ca0-8a40-4e55-9800-a5ca4cef47dd",
   "metadata": {},
   "outputs": [
    {
     "name": "stdout",
     "output_type": "stream",
     "text": [
      "Collecting en-core-web-sm==3.8.0\n",
      "  Downloading https://github.com/explosion/spacy-models/releases/download/en_core_web_sm-3.8.0/en_core_web_sm-3.8.0-py3-none-any.whl (12.8 MB)\n",
      "     ---------------------------------------- 0.0/12.8 MB ? eta -:--:--\n",
      "      --------------------------------------- 0.3/12.8 MB ? eta -:--:--\n",
      "     -------------- ------------------------- 4.7/12.8 MB 19.0 MB/s eta 0:00:01\n",
      "     --------------------------------------- 12.8/12.8 MB 32.1 MB/s eta 0:00:00\n",
      "Installing collected packages: en-core-web-sm\n",
      "Successfully installed en-core-web-sm-3.8.0\n",
      "\u001b[38;5;2m[+] Download and installation successful\u001b[0m\n",
      "You can now load the package via spacy.load('en_core_web_sm')\n"
     ]
    }
   ],
   "source": [
    "!python -m spacy download en_core_web_sm\n"
   ]
  },
  {
   "cell_type": "code",
   "execution_count": 29,
   "id": "4e44819d-9b6d-4df9-9e9e-fed3c26ec329",
   "metadata": {
    "scrolled": true
   },
   "outputs": [
    {
     "name": "stdout",
     "output_type": "stream",
     "text": [
      "Collecting nltk\n",
      "  Downloading nltk-3.9.1-py3-none-any.whl.metadata (2.9 kB)\n",
      "Requirement already satisfied: click in c:\\users\\remas alhazmi\\onedrive\\anaconda\\envs\\env_tow\\lib\\site-packages (from nltk) (8.1.8)\n",
      "Collecting joblib (from nltk)\n",
      "  Downloading joblib-1.4.2-py3-none-any.whl.metadata (5.4 kB)\n",
      "Collecting regex>=2021.8.3 (from nltk)\n",
      "  Downloading regex-2024.11.6-cp310-cp310-win_amd64.whl.metadata (41 kB)\n",
      "Requirement already satisfied: tqdm in c:\\users\\remas alhazmi\\onedrive\\anaconda\\envs\\env_tow\\lib\\site-packages (from nltk) (4.67.1)\n",
      "Requirement already satisfied: colorama in c:\\users\\remas alhazmi\\onedrive\\anaconda\\envs\\env_tow\\lib\\site-packages (from click->nltk) (0.4.6)\n",
      "Downloading nltk-3.9.1-py3-none-any.whl (1.5 MB)\n",
      "   ---------------------------------------- 0.0/1.5 MB ? eta -:--:--\n",
      "   -------------------- ------------------- 0.8/1.5 MB 4.8 MB/s eta 0:00:01\n",
      "   ---------------------------------------- 1.5/1.5 MB 6.6 MB/s eta 0:00:00\n",
      "Downloading regex-2024.11.6-cp310-cp310-win_amd64.whl (274 kB)\n",
      "Downloading joblib-1.4.2-py3-none-any.whl (301 kB)\n",
      "Installing collected packages: regex, joblib, nltk\n",
      "Successfully installed joblib-1.4.2 nltk-3.9.1 regex-2024.11.6\n",
      "Note: you may need to restart the kernel to use updated packages.\n"
     ]
    }
   ],
   "source": [
    "pip install nltk\n"
   ]
  },
  {
   "cell_type": "markdown",
   "id": "19717732-c4a2-4abc-908d-65668b2f5872",
   "metadata": {},
   "source": [
    "# Task 1"
   ]
  },
  {
   "cell_type": "code",
   "execution_count": 3,
   "id": "754b7ed1-5441-40ed-aba6-25ae3f618ea7",
   "metadata": {},
   "outputs": [
    {
     "name": "stdout",
     "output_type": "stream",
     "text": [
      "P(okay | 33_1_0001) = 1.0000\n",
      "P(let's | okay) = 0.1189\n",
      "P(see | let's) = 0.0446\n",
      "P(i | see) = 0.0595\n",
      "P(want | i) = 0.3230\n",
      "P(to | want) = 0.6534\n",
      "P(go | to) = 0.1355\n",
      "P(to | go) = 0.3505\n",
      "P(a | to) = 0.0284\n",
      "P(thai | a) = 0.0228\n"
     ]
    }
   ],
   "source": [
    "import re\n",
    "import spacy\n",
    "from collections import defaultdict\n",
    "\n",
    "\n",
    "nlp = spacy.load(\"en_core_web_sm\")\n",
    "\n",
    "\n",
    "with open(\"transcript.txt\", \"r\") as f:# to clean data\n",
    "    text = f.read()\n",
    "\n",
    "\n",
    "text = re.sub(r\"\\[\\w+\\]\", \"\", text)\n",
    "text = re.sub(r\"<.*?>\", \"\", text)\n",
    "\n",
    "doc = nlp(text)\n",
    "sentences = [sent.text.lower() for sent in doc.sents]\n",
    "\n",
    "\n",
    "bigram_counts = defaultdict(int)\n",
    "word_counts = defaultdict(int)\n",
    "\n",
    "for sent in sentences:\n",
    "    words = sent.split()\n",
    "    for i in range(len(words) - 1):\n",
    "        bigram = (words[i], words[i+1])\n",
    "        bigram_counts[bigram] += 1\n",
    "        word_counts[words[i]] += 1\n",
    "\n",
    "bigram_probs = {bigram: count / word_counts[bigram[0]] for bigram, count in bigram_counts.items()}\n",
    "\n",
    "\n",
    "for bigram, prob in list(bigram_probs.items())[:10]:\n",
    "    print(f\"P({bigram[1]} | {bigram[0]}) = {prob:.4f}\")\n"
   ]
  },
  {
   "cell_type": "markdown",
   "id": "f9b40662-44cf-463c-ba57-63c5a8b6e567",
   "metadata": {},
   "source": [
    "# Task 2 Calculating the probabilities of given sentences"
   ]
  },
  {
   "cell_type": "code",
   "execution_count": 11,
   "id": "2ee12e39-fd9a-4250-8031-60830e32fe30",
   "metadata": {},
   "outputs": [
    {
     "name": "stdout",
     "output_type": "stream",
     "text": [
      "\n",
      " Sentence Probabilities:\n",
      "P(\"show me all the Arabic food restaurants\") = 0.1666666667\n",
      "P(\"I am learning mathematics\") = 0.5000000000\n"
     ]
    }
   ],
   "source": [
    "import re\n",
    "from collections import Counter\n",
    "\n",
    "corpus = [\n",
    "    \"Show me all the Arabic food restaurants\",\n",
    "    \"I am learning mathematics\",\n",
    "    \"I like Arabic food\",\n",
    "    \"Find Arabic restaurants near me\"\n",
    "]\n",
    "\n",
    "\n",
    "def preprocess(text):\n",
    "    text = text.lower()\n",
    "    text = re.sub(r\"[^\\w\\s]\", \"\", text)  # Remove punctuation\n",
    "    return text.split()  # Split the sentence into words\n",
    "\n",
    "# Tokenizing all sentences\n",
    "tokenized_sentences = [preprocess(sent) for sent in corpus]\n",
    "\n",
    "#  Generating all possible Bi-Grams\n",
    "bigram_list = [(sent[i], sent[i+1]) for sent in tokenized_sentences for i in range(len(sent)-1)]\n",
    "\n",
    "# Counting occurrences of Bi-Grams and Uni-Grams\n",
    "bigram_counts = Counter(bigram_list)\n",
    "unigram_counts = Counter([word for sent in tokenized_sentences for word in sent])\n",
    "\n",
    "bigram_probs = {bigram: bigram_counts[bigram] / unigram_counts[bigram[0]] for bigram in bigram_counts}\n",
    "\n",
    "# Function to calculate sentence probability using Bi-Grams\n",
    "def sentence_probability(sentence, bigram_probs):\n",
    "    words = preprocess(sentence)  # Clean and tokenize sentence\n",
    "    prob = 1.0  # Start with probability 1\n",
    "\n",
    "    for i in range(len(words) - 1):\n",
    "        bigram = (words[i], words[i + 1])\n",
    "        prob *= bigram_probs.get(bigram, 0)  # If Bi-Gram is missing, probability becomes 0\n",
    "\n",
    "    return prob\n",
    "\n",
    "sentences_to_check = [\n",
    "    \"show me all the Arabic food restaurants\",\n",
    "    \"I am learning mathematics\"\n",
    "]\n",
    "\n",
    "print(\"\\n Sentence Probabilities:\")\n",
    "for sentence in sentences_to_check:\n",
    "    prob = sentence_probability(sentence, bigram_probs)\n",
    "    print(f\"P(\\\"{sentence}\\\") = {prob:.10f}\")\n",
    "\n",
    "\n"
   ]
  }
 ],
 "metadata": {
  "kernelspec": {
   "display_name": "Python [conda env:env_tow]",
   "language": "python",
   "name": "conda-env-env_tow-py"
  },
  "language_info": {
   "codemirror_mode": {
    "name": "ipython",
    "version": 3
   },
   "file_extension": ".py",
   "mimetype": "text/x-python",
   "name": "python",
   "nbconvert_exporter": "python",
   "pygments_lexer": "ipython3",
   "version": "3.10.16"
  }
 },
 "nbformat": 4,
 "nbformat_minor": 5
}
